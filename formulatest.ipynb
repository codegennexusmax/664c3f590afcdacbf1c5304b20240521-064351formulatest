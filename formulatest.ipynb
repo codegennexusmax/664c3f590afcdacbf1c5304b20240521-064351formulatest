{
 "cells": [
  {
   "cell_type": "markdown",
   "id": "920c6432",
   "metadata": {},
   "source": [
    "***GENERATED CODE FOR formulatest PIPELINE.***"
   ]
  },
  {
   "cell_type": "markdown",
   "id": "44a09198",
   "metadata": {},
   "source": [
    "***DON'T EDIT THIS CODE.***"
   ]
  },
  {
   "cell_type": "markdown",
   "id": "c61e7d91",
   "metadata": {},
   "source": [
    "***CONNECTOR FUNCTIONS TO READ DATA.***"
   ]
  },
  {
   "cell_type": "code",
   "execution_count": null,
   "id": "570b560f",
   "metadata": {},
   "outputs": [],
   "source": [
    "import os\n",
    "import datetime\n",
    "import logging\n",
    "import warnings\n",
    "warnings.filterwarnings('ignore')\n",
    "logging.basicConfig(format='%(levelname)s:%(message)s', level=logging.INFO)\n",
    "\n",
    "\n",
    "class HDFSConnector:\n",
    "\n",
    "    def fetch(spark, config):\n",
    "        ################### INPUT HADOOP HOST PORT TO CONNECT WITH ###############################\n",
    "        hdfs_server = str(os.environ['HDFS_SERVER'])\n",
    "        hdfs_port = int(os.environ['HDFS_PORT'])\n",
    "        df = spark.read.options(header='true', inferschema='true').csv(\n",
    "            f\"hdfs://{hdfs_server}:{hdfs_port}{eval(config)['url']}\", header='true')\n",
    "        display(df.limit(2).toPandas())\n",
    "        return df\n",
    "\n",
    "    def put(df, spark, config):\n",
    "        return df.write.format('csv').options(header='true' if eval(config)[\"is_header\"] == \"Use Header Line\" else 'false',\n",
    "                                              delimiter=eval(config)[\"delimiter\"]).save((\"%s %s\") % (datetime.datetime.now().strftime(\"%Y-%m-%d %H.%M.%S\")+\"_\", eval(config)['url']))\n"
   ]
  },
  {
   "cell_type": "markdown",
   "id": "1cf7cde3",
   "metadata": {},
   "source": [
    "***OPERATION FUNCTIONS***"
   ]
  },
  {
   "cell_type": "code",
   "execution_count": null,
   "id": "c991e517",
   "metadata": {},
   "outputs": [],
   "source": [
    "class FormulaOperation:\n",
    "\n",
    "    def run(inStages, inStagesData, stageId, sparkSession, stageAttribs):\n",
    "\n",
    "        formula = \"\"\n",
    "        if stageAttribs[\"use_expression\"]:\n",
    "            for expression in stageAttribs[\"expression\"]:\n",
    "                formula += \"%s %s %s %s\" % (expression[\"combinator\"],\n",
    "                                            expression[\"value1\"],\n",
    "                                            expression[\"operator\"],\n",
    "                                            expression[\"value2\"])\n",
    "        else:\n",
    "            formula = stageAttribs[\"formula\"]\n",
    "\n",
    "        output_field = stageAttribs[\"output_field\"]\n",
    "\n",
    "        if output_field[\"absolute\"]:\n",
    "            formula = \"ABS(%s) as %s\" % (formula, output_field[\"field\"])\n",
    "        else:\n",
    "            formula = \"(%s) as %s\" % (formula, output_field[\"field\"])\n",
    "\n",
    "        inStagesData[inStages[0]].createOrReplaceTempView(\"view%s\" % (stageId))\n",
    "        return sparkSession.sql(\"SELECT *, %s FROM view\" % (formula,\n",
    "                                                            \"view%s\" % (stageId)))\n"
   ]
  },
  {
   "cell_type": "markdown",
   "id": "7ddb1742",
   "metadata": {},
   "source": [
    "***CONNECTOR FUNCTIONS TO WRITE DATA.***"
   ]
  },
  {
   "cell_type": "code",
   "execution_count": null,
   "id": "e2abf514",
   "metadata": {},
   "outputs": [],
   "source": [
    "import datetime\n",
    "import requests\n",
    "import datetime\n",
    "import logging\n",
    "import warnings\n",
    "warnings.filterwarnings('ignore')\n",
    "logging.basicConfig(format='%(levelname)s:%(message)s', level=logging.INFO)\n",
    "\n",
    "\n",
    "class NumtraConnector:\n",
    "\n",
    "    def put(inStages, inStagesData, stageId, spark, config):\n",
    "        path = eval(config)['server_url']\n",
    "        baseType = eval(config)['baseType']\n",
    "        results_url = eval(config)['results_url']\n",
    "        server = eval(config)['server']\n",
    "        originalfile = eval(config)['orignalKey']\n",
    "        eval(config)['pathOnly']\n",
    "        filename = eval(config)['filename']\n",
    "        eval(config)['ser']\n",
    "        eval(config)['user']\n",
    "        eval(config)['password']\n",
    "        eval(config)['authSource']\n",
    "        eval(config)['user_id']\n",
    "        eval(config)['parent_id']\n",
    "        eval(config)['project_id']\n",
    "        time = str(int(datetime.datetime.now().timestamp()))\n",
    "\n",
    "        inStagesData[inStages[0]]\n",
    "\n",
    "        print(path)\n",
    "        print(baseType)\n",
    "        print(results_url)\n",
    "        print(server)\n",
    "        print(originalfile)\n",
    "        print(filename)\n",
    "\n",
    "        args = {\n",
    "            'url': path,\n",
    "            'baseType': baseType,\n",
    "            'originalfile': originalfile,\n",
    "            'filename': time + filename\n",
    "        }\n",
    "\n",
    "        response = requests.post(results_url, args)\n",
    "        return response\n"
   ]
  },
  {
   "cell_type": "markdown",
   "id": "7b2ca4c0",
   "metadata": {},
   "source": [
    "***READING DATAFRAME***"
   ]
  },
  {
   "cell_type": "code",
   "execution_count": null,
   "id": "9840f53a",
   "metadata": {},
   "outputs": [],
   "source": [
    "############## CREATE SPARK SESSION ############################ ENTER YOUR SPARK MASTER IP AND PORT TO CONNECT TO SERVER ################\n",
    "from pyspark.sql import SparkSession\n",
    "spark = SparkSession.builder.master('local[1]').getOrCreate()\n",
    "#%run formulatestHooks.ipynb\n",
    "try:\n",
    "\t#sourcePreExecutionHook()\n",
    "\n",
    "\ttelcocutomerchurnhitorysbfa = HDFSConnector.fetch(spark, \"{'url': '/FileStore/platform/testdata/1715325972082_Telco_Customer_Churn_History.csv', 'filename': 'Telco_Customer_Churn_History.csv', 'delimiter': ',', 'file_type': 'Delimeted', 'FilePath': '/DNM_TESTING 9th May/Test data/Telco_Customer_Churn_History.csv', 'viewFileName': 'Telco_Customer_Churn_History.csv', 'is_header': 'Use Header Line', 'baseType': 'hdfs', 'server_url': '/nexusMax/NexusMaxPlatform/uploads/platform/', 'results_url': 'http://dnm.bfirst.ai:44040/api/read/hdfs'}\")\n",
    "\n",
    "except Exception as ex: \n",
    "\tlogging.error(ex)\n",
    "#spark.stop()\n"
   ]
  },
  {
   "cell_type": "markdown",
   "id": "f08c7875",
   "metadata": {},
   "source": [
    "***PERFORMING OPERATIONS***"
   ]
  },
  {
   "cell_type": "code",
   "execution_count": null,
   "id": "65d2e27f",
   "metadata": {},
   "outputs": [],
   "source": [
    "#%run formulatestHooks.ipynb\n",
    "try:\n",
    "\tformula = FormulaOperation.run([\"664c3f610afcdacbf1c5305d\"],{\"664c3f610afcdacbf1c5305d\": telcocutomerchurnhitorysbfa}, \"664c3f650afcdacbf1c53061\", spark, \"{'dataType': 'real', 'dataTypes': ['String', 'numeric', 'real'], 'SelectedColumns': ['MonthlyCharges', 'TotalCharges'], 'functionData': {'functionName': 'formula', 'applyOn': [{'columnName': 'MonthlyCharges', 'type': 'real', 'disable': False}, {'columnName': 'TotalCharges', 'type': 'real', 'disable': False}], 'functionsData': [{'operand1': 'MonthlyCharges', 'operator': 'add', 'operand2': 'TotalCharges', 'outputColumn': 'newColumn', 'useNext': 0, 'column': [{'Columndata': {'columnName': 'MonthlyCharges', 'type': 'real', 'disable': False}}, {'Columndata': {'columnName': 'TotalCharges', 'type': 'real', 'disable': False}}, {'Columndata': ''}]}]}, 'allColumns': [{'columnName': 'customerID', 'type': 'String', 'disable': True}, {'columnName': 'gender', 'type': 'String', 'disable': True}, {'columnName': 'SeniorCitizen', 'type': 'numeric', 'disable': True}, {'columnName': 'Partner', 'type': 'String', 'disable': True}, {'columnName': 'Dependents', 'type': 'String', 'disable': True}, {'columnName': 'tenure', 'type': 'numeric', 'disable': True}, {'columnName': 'PhoneService', 'type': 'String', 'disable': True}, {'columnName': 'MultipleLines', 'type': 'String', 'disable': True}, {'columnName': 'InternetService', 'type': 'String', 'disable': True}, {'columnName': 'OnlineSecurity', 'type': 'String', 'disable': True}, {'columnName': 'OnlineBackup', 'type': 'String', 'disable': True}, {'columnName': 'DeviceProtection', 'type': 'String', 'disable': True}, {'columnName': 'TechSupport', 'type': 'String', 'disable': True}, {'columnName': 'StreamingTV', 'type': 'String', 'disable': True}, {'columnName': 'StreamingMovies', 'type': 'String', 'disable': True}, {'columnName': 'Contract', 'type': 'String', 'disable': True}, {'columnName': 'PaperlessBilling', 'type': 'String', 'disable': True}, {'columnName': 'PaymentMethod', 'type': 'String', 'disable': True}, {'columnName': 'MonthlyCharges', 'type': 'real', 'disable': False}, {'columnName': 'TotalCharges', 'type': 'real', 'disable': False}, {'columnName': 'Churn', 'type': 'String', 'disable': True}], 'url': '/FileStore/platform/testdata/1715325972082_Telco_Customer_Churn_History.csv', 'SelectedColumnsData': [{'columnName': 'MonthlyCharges', 'type': 'real', 'disable': False}, {'columnName': 'TotalCharges', 'type': 'real', 'disable': False}], 'server_url': '/nexusMax/NexusMaxPlatform/uploads/platform/'}\")\n",
    "\n",
    "except Exception as ex: \n",
    "\tlogging.error(ex)\n"
   ]
  },
  {
   "cell_type": "markdown",
   "id": "584fd2d1",
   "metadata": {},
   "source": [
    "***WRITING DATAFRAME***"
   ]
  },
  {
   "cell_type": "code",
   "execution_count": null,
   "id": "b0759be8",
   "metadata": {},
   "outputs": [],
   "source": [
    "#%run formulatestHooks.ipynb\n",
    "try:\n",
    "\t#sinkPreExecutionHook()\n",
    "\n",
    "\ttestresultsoutput = NumtraConnector.fetch(spark, \"{'samplefile': '/FileStore/platform/sampleData/664c3f610afcdacbf1c5305d/part-00000-862d9899-845d-46e8-9f97-350f5f51cf21-c000.csv', 'samplecount': 755, 'originalcount': 7043, 'orignalKey': '/FileStore/platform/testdata/1715325972082_Telco_Customer_Churn_History.csv', 'pathOnly': '/DNM_TESTING 9th May/Test_results', 'project_id': '663c948ebc62e3f208c799d1', 'parent_id': '663c948ebc62e3f208c799d1', 'original_schema': [{'checked': True, 'inherited': True, 'is_categorical': False, 'bad_values': '', 'nullable': 'true', '_id': '664c42740afcdacbf1c53238', 'field': 'customerID', 'alias': 'customerID', 'type': 'String', 'position': '0'}, {'checked': True, 'inherited': True, 'is_categorical': False, 'bad_values': '', 'nullable': 'true', '_id': '664c42740afcdacbf1c53239', 'field': 'gender', 'alias': 'gender', 'type': 'String', 'position': '1'}, {'checked': True, 'inherited': True, 'is_categorical': False, 'bad_values': '', 'nullable': 'true', '_id': '664c42740afcdacbf1c5323a', 'field': 'SeniorCitizen', 'alias': 'SeniorCitizen', 'type': 'numeric', 'position': '2'}, {'checked': True, 'inherited': True, 'is_categorical': False, 'bad_values': '', 'nullable': 'true', '_id': '664c42740afcdacbf1c5323b', 'field': 'Partner', 'alias': 'Partner', 'type': 'String', 'position': '3'}, {'checked': True, 'inherited': True, 'is_categorical': False, 'bad_values': '', 'nullable': 'true', '_id': '664c42740afcdacbf1c5323c', 'field': 'Dependents', 'alias': 'Dependents', 'type': 'String', 'position': '4'}, {'checked': True, 'inherited': True, 'is_categorical': False, 'bad_values': '', 'nullable': 'true', '_id': '664c42740afcdacbf1c5323d', 'field': 'tenure', 'alias': 'tenure', 'type': 'numeric', 'position': '5'}, {'checked': True, 'inherited': True, 'is_categorical': False, 'bad_values': '', 'nullable': 'true', '_id': '664c42740afcdacbf1c5323e', 'field': 'PhoneService', 'alias': 'PhoneService', 'type': 'String', 'position': '6'}, {'checked': True, 'inherited': True, 'is_categorical': False, 'bad_values': '', 'nullable': 'true', '_id': '664c42740afcdacbf1c5323f', 'field': 'MultipleLines', 'alias': 'MultipleLines', 'type': 'String', 'position': '7'}, {'checked': True, 'inherited': True, 'is_categorical': False, 'bad_values': '', 'nullable': 'true', '_id': '664c42740afcdacbf1c53240', 'field': 'InternetService', 'alias': 'InternetService', 'type': 'String', 'position': '8'}, {'checked': True, 'inherited': True, 'is_categorical': False, 'bad_values': '', 'nullable': 'true', '_id': '664c42740afcdacbf1c53241', 'field': 'OnlineSecurity', 'alias': 'OnlineSecurity', 'type': 'String', 'position': '9'}, {'checked': True, 'inherited': True, 'is_categorical': False, 'bad_values': '', 'nullable': 'true', '_id': '664c42740afcdacbf1c53242', 'field': 'OnlineBackup', 'alias': 'OnlineBackup', 'type': 'String', 'position': '10'}, {'checked': True, 'inherited': True, 'is_categorical': False, 'bad_values': '', 'nullable': 'true', '_id': '664c42740afcdacbf1c53243', 'field': 'DeviceProtection', 'alias': 'DeviceProtection', 'type': 'String', 'position': '11'}, {'checked': True, 'inherited': True, 'is_categorical': False, 'bad_values': '', 'nullable': 'true', '_id': '664c42740afcdacbf1c53244', 'field': 'TechSupport', 'alias': 'TechSupport', 'type': 'String', 'position': '12'}, {'checked': True, 'inherited': True, 'is_categorical': False, 'bad_values': '', 'nullable': 'true', '_id': '664c42740afcdacbf1c53245', 'field': 'StreamingTV', 'alias': 'StreamingTV', 'type': 'String', 'position': '13'}, {'checked': True, 'inherited': True, 'is_categorical': False, 'bad_values': '', 'nullable': 'true', '_id': '664c42740afcdacbf1c53246', 'field': 'StreamingMovies', 'alias': 'StreamingMovies', 'type': 'String', 'position': '14'}, {'checked': True, 'inherited': True, 'is_categorical': False, 'bad_values': '', 'nullable': 'true', '_id': '664c42740afcdacbf1c53247', 'field': 'Contract', 'alias': 'Contract', 'type': 'String', 'position': '15'}, {'checked': True, 'inherited': True, 'is_categorical': False, 'bad_values': '', 'nullable': 'true', '_id': '664c42740afcdacbf1c53248', 'field': 'PaperlessBilling', 'alias': 'PaperlessBilling', 'type': 'String', 'position': '16'}, {'checked': True, 'inherited': True, 'is_categorical': False, 'bad_values': '', 'nullable': 'true', '_id': '664c42740afcdacbf1c53249', 'field': 'PaymentMethod', 'alias': 'PaymentMethod', 'type': 'String', 'position': '17'}, {'checked': True, 'inherited': True, 'is_categorical': False, 'bad_values': '', 'nullable': 'true', '_id': '664c42740afcdacbf1c5324a', 'field': 'MonthlyCharges', 'alias': 'MonthlyCharges', 'type': 'real', 'position': '18'}, {'checked': True, 'inherited': True, 'is_categorical': False, 'bad_values': '', 'nullable': 'true', '_id': '664c42740afcdacbf1c5324b', 'field': 'TotalCharges', 'alias': 'TotalCharges', 'type': 'real', 'position': '19'}, {'checked': True, 'inherited': True, 'is_categorical': False, 'bad_values': '', 'nullable': 'true', '_id': '664c42740afcdacbf1c5324c', 'field': 'Churn', 'alias': 'Churn', 'type': 'String', 'position': '20'}], 'actual_schema': [{'checked': True, 'inherited': True, 'is_categorical': False, 'bad_values': '', 'nullable': 'true', '_id': '664c42740afcdacbf1c53223', 'field': 'customerID', 'alias': 'customerID', 'type': 'String', 'position': '0'}, {'checked': True, 'inherited': True, 'is_categorical': False, 'bad_values': '', 'nullable': 'true', '_id': '664c42740afcdacbf1c53224', 'field': 'gender', 'alias': 'gender', 'type': 'String', 'position': '1'}, {'checked': True, 'inherited': True, 'is_categorical': False, 'bad_values': '', 'nullable': 'true', '_id': '664c42740afcdacbf1c53225', 'field': 'SeniorCitizen', 'alias': 'SeniorCitizen', 'type': 'numeric', 'position': '2'}, {'checked': True, 'inherited': True, 'is_categorical': False, 'bad_values': '', 'nullable': 'true', '_id': '664c42740afcdacbf1c53226', 'field': 'Partner', 'alias': 'Partner', 'type': 'String', 'position': '3'}, {'checked': True, 'inherited': True, 'is_categorical': False, 'bad_values': '', 'nullable': 'true', '_id': '664c42740afcdacbf1c53227', 'field': 'Dependents', 'alias': 'Dependents', 'type': 'String', 'position': '4'}, {'checked': True, 'inherited': True, 'is_categorical': False, 'bad_values': '', 'nullable': 'true', '_id': '664c42740afcdacbf1c53228', 'field': 'tenure', 'alias': 'tenure', 'type': 'numeric', 'position': '5'}, {'checked': True, 'inherited': True, 'is_categorical': False, 'bad_values': '', 'nullable': 'true', '_id': '664c42740afcdacbf1c53229', 'field': 'PhoneService', 'alias': 'PhoneService', 'type': 'String', 'position': '6'}, {'checked': True, 'inherited': True, 'is_categorical': False, 'bad_values': '', 'nullable': 'true', '_id': '664c42740afcdacbf1c5322a', 'field': 'MultipleLines', 'alias': 'MultipleLines', 'type': 'String', 'position': '7'}, {'checked': True, 'inherited': True, 'is_categorical': False, 'bad_values': '', 'nullable': 'true', '_id': '664c42740afcdacbf1c5322b', 'field': 'InternetService', 'alias': 'InternetService', 'type': 'String', 'position': '8'}, {'checked': True, 'inherited': True, 'is_categorical': False, 'bad_values': '', 'nullable': 'true', '_id': '664c42740afcdacbf1c5322c', 'field': 'OnlineSecurity', 'alias': 'OnlineSecurity', 'type': 'String', 'position': '9'}, {'checked': True, 'inherited': True, 'is_categorical': False, 'bad_values': '', 'nullable': 'true', '_id': '664c42740afcdacbf1c5322d', 'field': 'OnlineBackup', 'alias': 'OnlineBackup', 'type': 'String', 'position': '10'}, {'checked': True, 'inherited': True, 'is_categorical': False, 'bad_values': '', 'nullable': 'true', '_id': '664c42740afcdacbf1c5322e', 'field': 'DeviceProtection', 'alias': 'DeviceProtection', 'type': 'String', 'position': '11'}, {'checked': True, 'inherited': True, 'is_categorical': False, 'bad_values': '', 'nullable': 'true', '_id': '664c42740afcdacbf1c5322f', 'field': 'TechSupport', 'alias': 'TechSupport', 'type': 'String', 'position': '12'}, {'checked': True, 'inherited': True, 'is_categorical': False, 'bad_values': '', 'nullable': 'true', '_id': '664c42740afcdacbf1c53230', 'field': 'StreamingTV', 'alias': 'StreamingTV', 'type': 'String', 'position': '13'}, {'checked': True, 'inherited': True, 'is_categorical': False, 'bad_values': '', 'nullable': 'true', '_id': '664c42740afcdacbf1c53231', 'field': 'StreamingMovies', 'alias': 'StreamingMovies', 'type': 'String', 'position': '14'}, {'checked': True, 'inherited': True, 'is_categorical': False, 'bad_values': '', 'nullable': 'true', '_id': '664c42740afcdacbf1c53232', 'field': 'Contract', 'alias': 'Contract', 'type': 'String', 'position': '15'}, {'checked': True, 'inherited': True, 'is_categorical': False, 'bad_values': '', 'nullable': 'true', '_id': '664c42740afcdacbf1c53233', 'field': 'PaperlessBilling', 'alias': 'PaperlessBilling', 'type': 'String', 'position': '16'}, {'checked': True, 'inherited': True, 'is_categorical': False, 'bad_values': '', 'nullable': 'true', '_id': '664c42740afcdacbf1c53234', 'field': 'PaymentMethod', 'alias': 'PaymentMethod', 'type': 'String', 'position': '17'}, {'checked': True, 'inherited': True, 'is_categorical': False, 'bad_values': '', 'nullable': 'true', '_id': '664c42740afcdacbf1c53235', 'field': 'MonthlyCharges', 'alias': 'MonthlyCharges', 'type': 'real', 'position': '18'}, {'checked': True, 'inherited': True, 'is_categorical': False, 'bad_values': '', 'nullable': 'true', '_id': '664c42740afcdacbf1c53236', 'field': 'TotalCharges', 'alias': 'TotalCharges', 'type': 'real', 'position': '19'}, {'checked': True, 'inherited': True, 'is_categorical': False, 'bad_values': '', 'nullable': 'true', '_id': '664c42740afcdacbf1c53237', 'field': 'Churn', 'alias': 'Churn', 'type': 'String', 'position': '20'}], 'server': 'https://dnm.bfirst.ai:443', 'server_url': '/nexusMax/NexusMaxPlatform/uploads/platform/', 'delimiter': ',', 'file_type': 'Delimeted', 'filename': 'formulaOutput.csv', 'token': '', 'domain': '', 'is_header': 'Use Header Line', 'url': '/FileStore/platform/uploadedSourceFiles/part-00000-49beee7a-c82f-4406-bd07-d0d815a69ee3-c000.csv', 'results_url': 'http://dnm.bfirst.ai:44040/api/read/hdfs'}\")\n",
    "\n",
    "except Exception as ex: \n",
    "\tlogging.error(ex)\n"
   ]
  }
 ],
 "metadata": {},
 "nbformat": 4,
 "nbformat_minor": 5
}
